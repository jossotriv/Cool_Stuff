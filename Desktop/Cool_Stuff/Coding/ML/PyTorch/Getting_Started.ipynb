{
 "cells": [
  {
   "cell_type": "code",
   "execution_count": 49,
   "metadata": {},
   "outputs": [],
   "source": [
    "from __future__ import print_function\n",
    "import torch\n",
    "import torchvision\n",
    "import numpy as np\n",
    "import time"
   ]
  },
  {
   "cell_type": "code",
   "execution_count": 50,
   "metadata": {},
   "outputs": [],
   "source": [
    "#initializing a tensor\n",
    "x = torch.empty(5,3)\n",
    "#Does not print"
   ]
  },
  {
   "cell_type": "code",
   "execution_count": 51,
   "metadata": {},
   "outputs": [
    {
     "data": {
      "text/plain": [
       "tensor([[ 0.8645,  0.1637,  0.4263],\n",
       "        [ 0.2694,  0.1931,  0.1721],\n",
       "        [ 0.3185,  0.8725,  0.2597],\n",
       "        [ 0.5716,  0.0681,  0.6741],\n",
       "        [ 0.5139,  0.2481,  0.2654]])"
      ]
     },
     "execution_count": 51,
     "metadata": {},
     "output_type": "execute_result"
    }
   ],
   "source": [
    "#5 x3 Matrix\n",
    "x = torch.rand(5,3)\n",
    "x"
   ]
  },
  {
   "cell_type": "code",
   "execution_count": 52,
   "metadata": {},
   "outputs": [
    {
     "name": "stdout",
     "output_type": "stream",
     "text": [
      "tensor([[ 0,  0,  0],\n",
      "        [ 0,  0,  0],\n",
      "        [ 0,  0,  0],\n",
      "        [ 0,  0,  0],\n",
      "        [ 0,  0,  0]])\n"
     ]
    }
   ],
   "source": [
    "#Empty Tensor with long dtype\n",
    "x = torch.zeros(5,3,dtype = torch.long)\n",
    "print(x)"
   ]
  },
  {
   "cell_type": "code",
   "execution_count": 53,
   "metadata": {},
   "outputs": [
    {
     "name": "stdout",
     "output_type": "stream",
     "text": [
      "tensor([ 5,  5,  3])\n"
     ]
    }
   ],
   "source": [
    "#tensor from data\n",
    "x = torch.tensor([5,5,3])\n",
    "print(x)"
   ]
  },
  {
   "cell_type": "code",
   "execution_count": 54,
   "metadata": {},
   "outputs": [
    {
     "name": "stdout",
     "output_type": "stream",
     "text": [
      "tensor([[ 1.,  1.,  1.],\n",
      "        [ 1.,  1.,  1.],\n",
      "        [ 1.,  1.,  1.],\n",
      "        [ 1.,  1.,  1.],\n",
      "        [ 1.,  1.,  1.]], dtype=torch.float64)\n"
     ]
    }
   ],
   "source": [
    "#new_* methods take in sizes\n",
    "x = x.new_ones(5,3,dtype = torch.double)\n",
    "print(x)"
   ]
  },
  {
   "cell_type": "code",
   "execution_count": 55,
   "metadata": {},
   "outputs": [
    {
     "name": "stdout",
     "output_type": "stream",
     "text": [
      "tensor([[-0.4609,  0.0854, -0.5425],\n",
      "        [ 1.4299, -1.6109, -0.3564],\n",
      "        [ 2.4034, -1.7893, -0.3803],\n",
      "        [-0.2906, -0.2593,  0.6519],\n",
      "        [-0.3481, -0.1351, -1.0194]])\n"
     ]
    }
   ],
   "source": [
    "#Overide dtype and randomize values\n",
    "x = torch.randn_like(x,dtype =torch.float)\n",
    "print(x) # Has the same shape as the previous one\n"
   ]
  },
  {
   "cell_type": "code",
   "execution_count": 56,
   "metadata": {},
   "outputs": [
    {
     "name": "stdout",
     "output_type": "stream",
     "text": [
      "torch.Size([5, 3])\n"
     ]
    }
   ],
   "source": [
    "#Get its size\n",
    "print(x.size()) #this is a tuple"
   ]
  },
  {
   "cell_type": "code",
   "execution_count": 57,
   "metadata": {},
   "outputs": [
    {
     "name": "stdout",
     "output_type": "stream",
     "text": [
      "torch.Size([5, 3, 1, 1])\n"
     ]
    }
   ],
   "source": [
    "#tuple operations\n",
    "print(x.size()+(1,1))"
   ]
  },
  {
   "cell_type": "code",
   "execution_count": null,
   "metadata": {},
   "outputs": [],
   "source": [
    "#adding different methods\n",
    "for i in range(10):\n",
    "    x = torch.rand(100,100,100,100,100)\n",
    "    y = torch.rand(100,100,100,100,100)\n",
    "    #Method 1\n",
    "    start =time.time()\n",
    "    sum_ = x+y\n",
    "    end= time.time()\n",
    "    # print(\"Method1 \\n\",\"Time_Taken: \",end-start,\"\\n \\n\",sum_)\n",
    "    print(\"Method1 \\n\",\"Time_Taken: \",end-start,\"\\n \\n\")\n",
    "    #Method 2\n",
    "    start = time.time()\n",
    "    sum_ = torch.add(x,y)\n",
    "    end = time.time()\n",
    "    # print(\"Method2 \\n\",\"Time_Taken: \",end-start,\"\\n \\n\",sum_)\n",
    "    print(\"Method2 \\n\",\"Time_Taken: \",end-start,\"\\n \\n\")\n",
    "    #Method 3\n",
    "    start = time.time()\n",
    "    result = torch.empty(5,3)\n",
    "    torch.add(x,y,out=result)\n",
    "    end = time.time()\n",
    "    # print(\"Method3 \\n\",\"Time_Taken: \",end-start,\"\\n \\n\",result)\n",
    "    print(\"Method3 \\n\",\"Time_Taken: \",end-start,\"\\n \\n\")"
   ]
  },
  {
   "cell_type": "code",
   "execution_count": null,
   "metadata": {},
   "outputs": [],
   "source": []
  },
  {
   "cell_type": "code",
   "execution_count": null,
   "metadata": {},
   "outputs": [],
   "source": []
  }
 ],
 "metadata": {
  "kernelspec": {
   "display_name": "Python 3",
   "language": "python",
   "name": "python3"
  },
  "language_info": {
   "codemirror_mode": {
    "name": "ipython",
    "version": 3
   },
   "file_extension": ".py",
   "mimetype": "text/x-python",
   "name": "python",
   "nbconvert_exporter": "python",
   "pygments_lexer": "ipython3",
   "version": "3.6.6"
  }
 },
 "nbformat": 4,
 "nbformat_minor": 2
}
