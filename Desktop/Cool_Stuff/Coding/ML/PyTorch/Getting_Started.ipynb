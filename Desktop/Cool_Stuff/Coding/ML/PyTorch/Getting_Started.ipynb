{
 "cells": [
  {
   "cell_type": "code",
   "execution_count": 11,
   "metadata": {},
   "outputs": [],
   "source": [
    "from __future__ import print_function\n",
    "import torch\n",
    "import torchvision\n",
    "import numpy as np\n",
    "import time"
   ]
  },
  {
   "cell_type": "code",
   "execution_count": 3,
   "metadata": {},
   "outputs": [],
   "source": [
    "#initializing a tensor\n",
    "x = torch.empty(5,3)\n",
    "#Does not print"
   ]
  },
  {
   "cell_type": "code",
   "execution_count": 4,
   "metadata": {},
   "outputs": [
    {
     "data": {
      "text/plain": [
       "tensor([[ 0.1433,  0.5464,  0.7008],\n",
       "        [ 0.7156,  0.6823,  0.9221],\n",
       "        [ 0.2897,  0.0290,  0.0586],\n",
       "        [ 0.5607,  0.9772,  0.7155],\n",
       "        [ 0.6418,  0.6407,  0.6069]])"
      ]
     },
     "execution_count": 4,
     "metadata": {},
     "output_type": "execute_result"
    }
   ],
   "source": [
    "#5 x3 Matrix\n",
    "x = torch.rand(5,3)\n",
    "x"
   ]
  },
  {
   "cell_type": "code",
   "execution_count": 5,
   "metadata": {},
   "outputs": [
    {
     "name": "stdout",
     "output_type": "stream",
     "text": [
      "tensor([[ 0,  0,  0],\n",
      "        [ 0,  0,  0],\n",
      "        [ 0,  0,  0],\n",
      "        [ 0,  0,  0],\n",
      "        [ 0,  0,  0]])\n"
     ]
    }
   ],
   "source": [
    "#Empty Tensor with long dtype\n",
    "x = torch.zeros(5,3,dtype = torch.long)\n",
    "print(x)"
   ]
  },
  {
   "cell_type": "code",
   "execution_count": 6,
   "metadata": {},
   "outputs": [
    {
     "name": "stdout",
     "output_type": "stream",
     "text": [
      "tensor([ 5,  5,  3])\n"
     ]
    }
   ],
   "source": [
    "#tensor from data\n",
    "x = torch.tensor([5,5,3])\n",
    "print(x)"
   ]
  },
  {
   "cell_type": "code",
   "execution_count": 7,
   "metadata": {},
   "outputs": [
    {
     "name": "stdout",
     "output_type": "stream",
     "text": [
      "tensor([[ 1.,  1.,  1.],\n",
      "        [ 1.,  1.,  1.],\n",
      "        [ 1.,  1.,  1.],\n",
      "        [ 1.,  1.,  1.],\n",
      "        [ 1.,  1.,  1.]], dtype=torch.float64)\n"
     ]
    }
   ],
   "source": [
    "#new_* methods take in sizes\n",
    "x = x.new_ones(5,3,dtype = torch.double)\n",
    "print(x)"
   ]
  },
  {
   "cell_type": "code",
   "execution_count": 8,
   "metadata": {},
   "outputs": [
    {
     "name": "stdout",
     "output_type": "stream",
     "text": [
      "tensor([[-1.7986,  1.2577, -1.4209],\n",
      "        [-0.9309,  1.4791, -0.4196],\n",
      "        [-1.7569,  0.2037, -1.5089],\n",
      "        [ 0.0388,  0.6282,  0.2607],\n",
      "        [-1.4025, -0.2180, -0.5828]])\n"
     ]
    }
   ],
   "source": [
    "#Overide dtype and randomize values\n",
    "x = torch.randn_like(x,dtype =torch.float)\n",
    "print(x) # Has the same shape as the previous one\n"
   ]
  },
  {
   "cell_type": "code",
   "execution_count": 9,
   "metadata": {},
   "outputs": [
    {
     "name": "stdout",
     "output_type": "stream",
     "text": [
      "torch.Size([5, 3])\n"
     ]
    }
   ],
   "source": [
    "#Get its size\n",
    "print(x.size()) #this is a tuple"
   ]
  },
  {
   "cell_type": "code",
   "execution_count": 10,
   "metadata": {},
   "outputs": [
    {
     "name": "stdout",
     "output_type": "stream",
     "text": [
      "torch.Size([5, 3, 1, 1])\n"
     ]
    }
   ],
   "source": [
    "#tuple operations\n",
    "print(x.size()+(1,1))"
   ]
  },
  {
   "cell_type": "code",
   "execution_count": 22,
   "metadata": {},
   "outputs": [
    {
     "name": "stdout",
     "output_type": "stream",
     "text": [
      "Method1 \n",
      " Time_Taken:  0.4951479434967041 \n",
      " \n",
      "\n",
      "Method2 \n",
      " Time_Taken:  0.41791629791259766 \n",
      " \n",
      "\n",
      "Method3 \n",
      " Time_Taken:  0.47773289680480957 \n",
      " \n",
      "\n"
     ]
    }
   ],
   "source": [
    "#adding different methods\n",
    "\n",
    "x = torch.rand(10000,10000)\n",
    "y = torch.rand(10000,10000)\n",
    "#Method 1\n",
    "start =time.time()\n",
    "sum_ = x+y\n",
    "end= time.time()\n",
    "# print(\"Method1 \\n\",\"Time_Taken: \",end-start,\"\\n \\n\",sum_)\n",
    "print(\"Method1 \\n\",\"Time_Taken: \",end-start,\"\\n \\n\")\n",
    "#Method 2\n",
    "start = time.time()\n",
    "sum_ = torch.add(x,y)\n",
    "end = time.time()\n",
    "# print(\"Method2 \\n\",\"Time_Taken: \",end-start,\"\\n \\n\",sum_)\n",
    "print(\"Method2 \\n\",\"Time_Taken: \",end-start,\"\\n \\n\")\n",
    "#Method 3\n",
    "start = time.time()\n",
    "result = torch.empty(5,3)\n",
    "torch.add(x,y,out=result)\n",
    "end = time.time()\n",
    "# print(\"Method3 \\n\",\"Time_Taken: \",end-start,\"\\n \\n\",result)\n",
    "print(\"Method3 \\n\",\"Time_Taken: \",end-start,\"\\n \\n\")\n",
    "#Method 4\n",
    "start = time.time()\n",
    "y.add_(x)\n",
    "print(y)"
   ]
  },
  {
   "cell_type": "code",
   "execution_count": null,
   "metadata": {},
   "outputs": [],
   "source": []
  },
  {
   "cell_type": "code",
   "execution_count": null,
   "metadata": {},
   "outputs": [],
   "source": []
  },
  {
   "cell_type": "code",
   "execution_count": null,
   "metadata": {},
   "outputs": [],
   "source": []
  }
 ],
 "metadata": {
  "kernelspec": {
   "display_name": "Python 3",
   "language": "python",
   "name": "python3"
  },
  "language_info": {
   "codemirror_mode": {
    "name": "ipython",
    "version": 3
   },
   "file_extension": ".py",
   "mimetype": "text/x-python",
   "name": "python",
   "nbconvert_exporter": "python",
   "pygments_lexer": "ipython3",
   "version": "3.6.6"
  }
 },
 "nbformat": 4,
 "nbformat_minor": 2
}
