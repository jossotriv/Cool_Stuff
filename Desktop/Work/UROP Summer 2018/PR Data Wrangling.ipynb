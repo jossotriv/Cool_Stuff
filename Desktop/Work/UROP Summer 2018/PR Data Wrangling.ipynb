{
 "cells": [
  {
   "cell_type": "code",
   "execution_count": 1,
   "metadata": {},
   "outputs": [],
   "source": [
    "import pandas as pd"
   ]
  },
  {
   "cell_type": "code",
   "execution_count": 17,
   "metadata": {},
   "outputs": [],
   "source": [
    "#import x and y columns\n",
    "x = pd.read_csv('/Users/josed.sotorivera/Desktop/Work/UROP Summer 2018/MR_2010_X.csv')\n",
    "y = pd.read_csv('/Users/josed.sotorivera/Desktop/Work/UROP Summer 2018/MR_2010_Y.csv')"
   ]
  },
  {
   "cell_type": "code",
   "execution_count": 18,
   "metadata": {},
   "outputs": [],
   "source": [
    "#transpose columns\n",
    "x = x.T\n",
    "y = y.T"
   ]
  },
  {
   "cell_type": "code",
   "execution_count": 45,
   "metadata": {},
   "outputs": [],
   "source": [
    "#make function to add each independently\n",
    "data = {}\n",
    "dataa = {}\n",
    "\n",
    "for i in x.columns:\n",
    "    data[i] = x[i]\n",
    "    dataa[i] = y[i]\n",
    "\n",
    "    "
   ]
  },
  {
   "cell_type": "code",
   "execution_count": 34,
   "metadata": {},
   "outputs": [
    {
     "name": "stdout",
     "output_type": "stream",
     "text": [
      "                    0\n",
      "Var1      3435.000000\n",
      "X_   1  302816.005148\n",
      "X_   2  307582.434849\n",
      "X_   3  307508.191264\n",
      "X_   4  298699.250200\n",
      "X_   5  290762.887185\n",
      "X_   6  289890.296336\n",
      "X_   7  289877.109776\n",
      "X_   8  289873.357328\n",
      "X_   9  289868.858384\n",
      "X_  10  287918.640654\n",
      "X_  11  287579.276814\n",
      "X_  12  286882.684941\n",
      "X_  13  286174.805005\n",
      "X_  14  285928.347660\n",
      "X_  15  285455.641100\n",
      "X_  16  285171.279884\n",
      "X_  17  284573.286923\n",
      "X_  18  284565.216779\n",
      "X_  19  285446.616588\n",
      "X_  20  292023.187474\n",
      "X_  21  298673.798168\n",
      "X_  22  302816.005148\n",
      "X_  23            NaN\n",
      "X_  24  294540.606996\n",
      "X_  25  294546.653716\n",
      "X_  26  294548.653588\n",
      "X_  27  294547.294740\n",
      "X_  28  294547.121684\n",
      "X_  29  294543.835668\n",
      "...               ...\n",
      "X_7692            NaN\n",
      "X_7693            NaN\n",
      "X_7694            NaN\n",
      "X_7695            NaN\n",
      "X_7696            NaN\n",
      "X_7697            NaN\n",
      "X_7698            NaN\n",
      "X_7699            NaN\n",
      "X_7700            NaN\n",
      "X_7701            NaN\n",
      "X_7702            NaN\n",
      "X_7703            NaN\n",
      "X_7704            NaN\n",
      "X_7705            NaN\n",
      "X_7706            NaN\n",
      "X_7707            NaN\n",
      "X_7708            NaN\n",
      "X_7709            NaN\n",
      "X_7710            NaN\n",
      "X_7711            NaN\n",
      "X_7712            NaN\n",
      "X_7713            NaN\n",
      "X_7714            NaN\n",
      "X_7715            NaN\n",
      "X_7716            NaN\n",
      "X_7717            NaN\n",
      "X_7718            NaN\n",
      "X_7719            NaN\n",
      "X_7720            NaN\n",
      "X_7721            NaN\n",
      "\n",
      "[7722 rows x 1 columns]\n"
     ]
    }
   ],
   "source": [
    "#Make Data into Dataframes:\n",
    "exp = pd.DataFrame(data)\n",
    "exp1 = pd.DataFrame(data)"
   ]
  },
  {
   "cell_type": "code",
   "execution_count": 35,
   "metadata": {},
   "outputs": [
    {
     "data": {
      "text/html": [
       "<div>\n",
       "<style scoped>\n",
       "    .dataframe tbody tr th:only-of-type {\n",
       "        vertical-align: middle;\n",
       "    }\n",
       "\n",
       "    .dataframe tbody tr th {\n",
       "        vertical-align: top;\n",
       "    }\n",
       "\n",
       "    .dataframe thead th {\n",
       "        text-align: right;\n",
       "    }\n",
       "</style>\n",
       "<table border=\"1\" class=\"dataframe\">\n",
       "  <thead>\n",
       "    <tr style=\"text-align: right;\">\n",
       "      <th></th>\n",
       "      <th>Var1</th>\n",
       "      <th>X_   1</th>\n",
       "      <th>X_   2</th>\n",
       "      <th>X_   3</th>\n",
       "      <th>X_   4</th>\n",
       "      <th>X_   5</th>\n",
       "      <th>X_   6</th>\n",
       "      <th>X_   7</th>\n",
       "      <th>X_   8</th>\n",
       "      <th>X_   9</th>\n",
       "      <th>...</th>\n",
       "      <th>X_7712</th>\n",
       "      <th>X_7713</th>\n",
       "      <th>X_7714</th>\n",
       "      <th>X_7715</th>\n",
       "      <th>X_7716</th>\n",
       "      <th>X_7717</th>\n",
       "      <th>X_7718</th>\n",
       "      <th>X_7719</th>\n",
       "      <th>X_7720</th>\n",
       "      <th>X_7721</th>\n",
       "    </tr>\n",
       "  </thead>\n",
       "  <tbody>\n",
       "    <tr>\n",
       "      <th>0</th>\n",
       "      <td>3435.0</td>\n",
       "      <td>302816.005148</td>\n",
       "      <td>307582.434849</td>\n",
       "      <td>307508.191264</td>\n",
       "      <td>298699.2502</td>\n",
       "      <td>290762.887185</td>\n",
       "      <td>289890.296336</td>\n",
       "      <td>289877.109776</td>\n",
       "      <td>289873.357328</td>\n",
       "      <td>289868.858384</td>\n",
       "      <td>...</td>\n",
       "      <td>NaN</td>\n",
       "      <td>NaN</td>\n",
       "      <td>NaN</td>\n",
       "      <td>NaN</td>\n",
       "      <td>NaN</td>\n",
       "      <td>NaN</td>\n",
       "      <td>NaN</td>\n",
       "      <td>NaN</td>\n",
       "      <td>NaN</td>\n",
       "      <td>NaN</td>\n",
       "    </tr>\n",
       "  </tbody>\n",
       "</table>\n",
       "<p>1 rows × 7722 columns</p>\n",
       "</div>"
      ],
      "text/plain": [
       "     Var1         X_   1         X_   2         X_   3       X_   4  \\\n",
       "0  3435.0  302816.005148  307582.434849  307508.191264  298699.2502   \n",
       "\n",
       "          X_   5         X_   6         X_   7         X_   8         X_   9  \\\n",
       "0  290762.887185  289890.296336  289877.109776  289873.357328  289868.858384   \n",
       "\n",
       "    ...    X_7712  X_7713  X_7714  X_7715  X_7716  X_7717  X_7718  X_7719  \\\n",
       "0   ...       NaN     NaN     NaN     NaN     NaN     NaN     NaN     NaN   \n",
       "\n",
       "   X_7720  X_7721  \n",
       "0     NaN     NaN  \n",
       "\n",
       "[1 rows x 7722 columns]"
      ]
     },
     "execution_count": 35,
     "metadata": {},
     "output_type": "execute_result"
    }
   ],
   "source": [
    "exp.T"
   ]
  },
  {
   "cell_type": "code",
   "execution_count": null,
   "metadata": {},
   "outputs": [],
   "source": []
  }
 ],
 "metadata": {
  "kernelspec": {
   "display_name": "Python 3",
   "language": "python",
   "name": "python3"
  },
  "language_info": {
   "codemirror_mode": {
    "name": "ipython",
    "version": 3
   },
   "file_extension": ".py",
   "mimetype": "text/x-python",
   "name": "python",
   "nbconvert_exporter": "python",
   "pygments_lexer": "ipython3",
   "version": "3.6.6"
  }
 },
 "nbformat": 4,
 "nbformat_minor": 2
}
