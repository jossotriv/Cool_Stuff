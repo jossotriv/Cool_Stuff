{
 "cells": [
  {
   "cell_type": "code",
   "execution_count": 6,
   "metadata": {},
   "outputs": [
    {
     "ename": "IndentationError",
     "evalue": "unindent does not match any outer indentation level (<ipython-input-6-fe964cef7e78>, line 28)",
     "output_type": "error",
     "traceback": [
      "\u001b[0;36m  File \u001b[0;32m\"<ipython-input-6-fe964cef7e78>\"\u001b[0;36m, line \u001b[0;32m28\u001b[0m\n\u001b[0;31m    if results[j] in current_matches.values():\u001b[0m\n\u001b[0m                                              ^\u001b[0m\n\u001b[0;31mIndentationError\u001b[0m\u001b[0;31m:\u001b[0m unindent does not match any outer indentation level\n"
     ]
    }
   ],
   "source": [
    "import random\n",
    "#Created Dic of Students with Kerberos Attachments\n",
    "students = {\"Abdulmalik H Alghonaim\":\"abdulmlk@mit.edu\",\"Anjolaoluwa A Fayemi \":\"fanjola@mit.edu\",\"Arnav Y Patel\":\"arnavp@mit.edu\",\"Barry J Ryan\":\"barryr\",\"Cole C Legg\":\"colelegg@mit.edu\",\"Cynthia T. Lo\":\"cyntio@mit.edu\",\"David J. Mackay\":\"djmackay@mit.edu\",\"Ebrahim D Al Johani\":\"ebrahim@mit.edu\",\"Eliza K Khokhar\":\"ekhokhar@mit.edu\",\"Jeremy C. Cowham\":\"jcowham@mit.edu\",\"Jesse Hinricher\":\"jhinrich@mit.edu\",\"Jimmy T Tran\":\"jtran1@mit.edu\",\"Jose D. Soto Rivera\":\"jodosori@mit.edu\",\"Wellesley1\":\"acode@wellesley.edu\",\"Wellesley2\":\"cblazey@wellesley.edu\",\"W3\":\"jwainwri@wellesley.edu\",\"W4\":\"zma@wellesley.edu\",\"Kebar M Geleta\": \"kgeleta@mit.edu\",\"Luke S Hartnett\":\"revhart@mit.edu\",\"Madeline E Bundy\":\"mbundy@mit.edu\",\"Philip J Murzynowski\":\"philipm@mit.edu\",\"Phoebe L Li\":\"phoebeli@mit.edu\",\"Rebecca A Agustin\":\"agustinr@mit.edu\",\"Taimor M Williams\":\"taimor@mit.edu\",\"Veronica J Ripper\":\"vripper@mit.edu\",\"Woonyong Bae\":\"wbae@mit.edu\"}\n",
    "\n",
    "#Kept track of student names in order to randomly distribute stuff\n",
    "student_names = list(students.values())\n",
    "\n",
    "#random student names\n",
    "\n",
    "random.shuffle(student_names)\n",
    "\n",
    "\n",
    "def partition(lst, n): \n",
    "    division = len(lst) / float(n) \n",
    "    return [ lst[int(round(division * i)): int(round(division * (i + 1)))] for i in range(n) ]\n",
    "\n",
    "print(partition(student_names,7))\n",
    "\n",
    "#Result of First Pairing\n",
    "\n",
    "results = [['colelegg@mit.edu', 'kgeleta@mit.edu', 'agustinr@mit.edu', 'mbundy@mit.edu'], ['jodosori@mit.edu', 'ekhokhar@mit.edu', 'taimor@mit.edu'], ['jtran1@mit.edu', 'ebrahim@mit.edu', 'cblazey@wellesley.edu', 'acode@wellesley.edu'], ['philipm@mit.edu', 'jwainwri@wellesley.edu', 'jhinrich@mit.edu', 'abdulmlk@mit.edu'], ['zma@wellesley.edu', 'cyntio@mit.edu', 'barryr', 'wbae@mit.edu'], ['phoebeli@mit.edu', 'fanjola@mit.edu', 'vripper@mit.edu'], ['revhart@mit.edu', 'djmackay@mit.edu', 'jcowham@mit.edu', 'arnavp@mit.edu']]\n",
    "\n",
    "current_matches= {}\n",
    "for i in results:\n",
    "\tfor j in range(len(i)):\n",
    "\t\tcounter = j+1\n",
    "\t\twhile counter % 4 != j%4:\n",
    "            if results[j] in current_matches.values():\n",
    "                current_matches[results[j]] += (current_matches[results[counter%4]],)\n",
    "            else:\n",
    "                current_matches[results[j]] += (current_matches[results[counter%4]],)\n",
    "print(current_matches)\n"
   ]
  },
  {
   "cell_type": "code",
   "execution_count": null,
   "metadata": {},
   "outputs": [],
   "source": []
  }
 ],
 "metadata": {
  "kernelspec": {
   "display_name": "Python 3",
   "language": "python",
   "name": "python3"
  },
  "language_info": {
   "codemirror_mode": {
    "name": "ipython",
    "version": 3
   },
   "file_extension": ".py",
   "mimetype": "text/x-python",
   "name": "python",
   "nbconvert_exporter": "python",
   "pygments_lexer": "ipython3",
   "version": "3.6.6"
  }
 },
 "nbformat": 4,
 "nbformat_minor": 2
}
